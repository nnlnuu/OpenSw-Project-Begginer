{
 "cells": [
  {
   "cell_type": "code",
   "execution_count": 45,
   "metadata": {},
   "outputs": [
    {
     "name": "stdout",
     "output_type": "stream",
     "text": [
      "['country', 'iso_code', 'date', 'total_vaccinations', 'people_vaccinated', 'people_fully_vaccinated', 'daily_vaccinations_raw', 'daily_vaccinations', 'total_vaccinations_per_hundred', 'people_vaccinated_per_hundred', 'people_fully_vaccinated_per_hundred', 'daily_vaccinations_per_million', 'vaccines', 'source_name', 'source_website']\n",
      "\n",
      "\n",
      "\n",
      "백신 접종 최대 최소 구하기 \n",
      "max date : 2021-06-28 , min date : 2021-02-22\n",
      "\n"
     ]
    }
   ],
   "source": [
    "import matplotlib.pyplot as plt\n",
    "import numpy as np\n",
    "import csv\n",
    "\n",
    "f = open('country_vaccinations.csv','r')\n",
    "data = csv.reader(f,delimiter=\",\")\n",
    "header = next(data)\n",
    "print(header)\n",
    "print(\"\\n\")\n",
    "max_vaccine = -999\n",
    "max_date=\"\"\n",
    "min_vaccine = 10000\n",
    "min_date=\"\"\n",
    "#n = next(data)\n",
    "vaccine = []\n",
    "\n",
    "#daily vaccinations -> 8번째 index -> 7\n",
    "for row in data:\n",
    "    if row[7] =='':\n",
    "        row[7] = 0\n",
    "    else:\n",
    "        row[7] = float(row[7])\n",
    "    if max_vaccine < row[7]:\n",
    "        max_vaccine = row[7]\n",
    "        max_date = row[2]\n",
    "    if min_vaccine > row[7]:\n",
    "        min_vaccine = row[7]\n",
    "        min_date = row[2]\n",
    "    vaccine.append(row[-3])\n",
    "    \n",
    "for i in vaccine:\n",
    "    i.split(\",\")\n",
    "\n",
    "\n",
    "\n",
    "\n",
    "    \n",
    "\n",
    "print(\"\\n백신 접종 최대 최소 구하기 \")   \n",
    "print(\"max date : {0:s} , min date : {1:s}\\n\".format(max_date,min_date))\n",
    "\n",
    "f.close()"
   ]
  },
  {
   "cell_type": "code",
   "execution_count": null,
   "metadata": {},
   "outputs": [],
   "source": []
  }
 ],
 "metadata": {
  "kernelspec": {
   "display_name": "Python 3",
   "language": "python",
   "name": "python3"
  },
  "language_info": {
   "codemirror_mode": {
    "name": "ipython",
    "version": 3
   },
   "file_extension": ".py",
   "mimetype": "text/x-python",
   "name": "python",
   "nbconvert_exporter": "python",
   "pygments_lexer": "ipython3",
   "version": "3.8.5"
  }
 },
 "nbformat": 4,
 "nbformat_minor": 4
}
