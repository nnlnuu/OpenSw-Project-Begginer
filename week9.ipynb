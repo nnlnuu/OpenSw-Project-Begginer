{
 "cells": [
  {
   "cell_type": "markdown",
   "metadata": {},
   "source": [
    "456 분은 몇시간 몇분인지 계산하시오"
   ]
  },
  {
   "cell_type": "code",
   "execution_count": 21,
   "metadata": {},
   "outputs": [
    {
     "name": "stdout",
     "output_type": "stream",
     "text": [
      "7시간 36분\n"
     ]
    },
    {
     "data": {
      "text/plain": [
       "(7, 36)"
      ]
     },
     "execution_count": 21,
     "metadata": {},
     "output_type": "execute_result"
    }
   ],
   "source": [
    "inputmin = 456\n",
    "hour = inputmin // 60\n",
    "min = inputmin % 60\n",
    "print(str(hour)+\"시간 \"+ str(min)+ \"분\")\n",
    "hour,min"
   ]
  },
  {
   "cell_type": "markdown",
   "metadata": {},
   "source": [
    "학점 데이터를 딕셔너리에 저장후 이름순으로 첫번째 학생의 학점을 출력하는 프로그램을 작성\n",
    "딕션너리 -> 리스트로 형 변환"
   ]
  },
  {
   "cell_type": "code",
   "execution_count": 43,
   "metadata": {},
   "outputs": [
    {
     "name": "stdout",
     "output_type": "stream",
     "text": [
      "['김철수', '이영희', '임꺽정', '홍길동']\n",
      "김철수 2.8\n"
     ]
    }
   ],
   "source": [
    "dic = {\"홍길동\":3.4,\"임꺽정\":4.0,\"김철수\":2.8,\"이영희\":3.9}\n",
    "\n",
    "dic_key = dic.keys()\n",
    "list_key = list(dic_key)\n",
    "list_key.sort()\n",
    "print(list_key)\n",
    "\n",
    "dic[list_key[0]]\n",
    "key = list_key[0]\n",
    "# value = dic[list_key[0]]\n",
    "value = dic.get(list_key[0])\n",
    "print(key,value)"
   ]
  },
  {
   "cell_type": "code",
   "execution_count": null,
   "metadata": {},
   "outputs": [],
   "source": []
  }
 ],
 "metadata": {
  "kernelspec": {
   "display_name": "Python 3",
   "language": "python",
   "name": "python3"
  },
  "language_info": {
   "codemirror_mode": {
    "name": "ipython",
    "version": 3
   },
   "file_extension": ".py",
   "mimetype": "text/x-python",
   "name": "python",
   "nbconvert_exporter": "python",
   "pygments_lexer": "ipython3",
   "version": "3.8.5"
  }
 },
 "nbformat": 4,
 "nbformat_minor": 4
}
