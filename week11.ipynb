{
 "cells": [
  {
   "cell_type": "code",
   "execution_count": 12,
   "metadata": {},
   "outputs": [
    {
     "name": "stdout",
     "output_type": "stream",
     "text": [
      "파이썬 2\n",
      "파일 2\n",
      "읽기 2\n",
      "예제입니다. 2\n",
      "다양한 1\n",
      "메소드를 1\n",
      "공부해 1\n",
      "보세요. 1\n",
      "실력이 1\n",
      "팍팍 1\n",
      "늘 1\n",
      "거에요~ 1\n",
      "단어 1\n",
      "수를 1\n",
      "카운트하는 1\n",
      "실습 1\n"
     ]
    }
   ],
   "source": [
    "f = open(\"README.txt\",\"r\", encoding = \"utf-8\")\n",
    "\n",
    "dic = {}\n",
    "for line in f:\n",
    "    line = line.strip()\n",
    "    words = line.split()\n",
    "    for w in words:\n",
    "        if w in dic:\n",
    "            dic[w] +=1\n",
    "        else:\n",
    "            dic[w] = 1\n",
    "for w in dic:\n",
    "    print(w , dic[w])\n",
    "f.close()"
   ]
  },
  {
   "cell_type": "code",
   "execution_count": 62,
   "metadata": {
    "scrolled": true
   },
   "outputs": [
    {
     "name": "stdout",
     "output_type": "stream",
     "text": [
      "[1,2]\n",
      "[3,4]\n",
      "[2,3],[4,5]\n"
     ]
    }
   ],
   "source": [
    "class Point :\n",
    "    def __init__(self,x,y):\n",
    "        self.x = x\n",
    "        self.y = y\n",
    "    def move(self,dx,dy):\n",
    "        self.x += dx\n",
    "        self.y += dy\n",
    "    def show(self) :\n",
    "        print(\"[{0:d},{1:d}]\".format(self.x, self.y))\n",
    "        \n",
    "class Box(Point):\n",
    "    def __init__(self,p1,p2):\n",
    "        self.p1 = p1\n",
    "        self.p2 = p2\n",
    "    def Box(self,dx,dy):\n",
    "        self.x = x\n",
    "        self.y = y\n",
    "    def show(self):\n",
    "        print(\"[{0:d},{1:d}],[{2:d},{3:d}]\".format(self.p1.x,self.p1.y,self.p2.x,self.p2.y))\n",
    "    def move(self,dx,dy):\n",
    "        self.p1.move(dx,dy)\n",
    "        self.p2.move(dx,dy)\n",
    "        \n",
    "point1= Point(1,2)\n",
    "#print(\"Point 좌표 : (\" + str(point1.x)+\",\"+ str(point1.y)+ \")\")\n",
    "point1.show()\n",
    "\n",
    "point2= Point(3,4)\n",
    "#print(\"Point 좌표 : (\" + str(point2.x)+\",\"+ str(point2.y)+ \")\")\n",
    "point2.show()\n",
    "\n",
    "box1 = Box(point1,point2)\n",
    "box1.move(1,1)\n",
    "box1.show()"
   ]
  }
 ],
 "metadata": {
  "kernelspec": {
   "display_name": "Python 3",
   "language": "python",
   "name": "python3"
  },
  "language_info": {
   "codemirror_mode": {
    "name": "ipython",
    "version": 3
   },
   "file_extension": ".py",
   "mimetype": "text/x-python",
   "name": "python",
   "nbconvert_exporter": "python",
   "pygments_lexer": "ipython3",
   "version": "3.8.5"
  }
 },
 "nbformat": 4,
 "nbformat_minor": 4
}
