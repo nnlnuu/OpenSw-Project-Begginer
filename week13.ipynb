{
 "cells": [
  {
   "cell_type": "markdown",
   "metadata": {},
   "source": [
    "실습1"
   ]
  },
  {
   "cell_type": "code",
   "execution_count": 41,
   "metadata": {},
   "outputs": [
    {
     "data": {
      "image/png": "[encoded data removed]",
      "text/plain": [
       "<Figure size 432x288 with 1 Axes>"
      ]
     },
     "metadata": {
      "needs_background": "light"
     },
     "output_type": "display_data"
    }
   ],
   "source": [
    "import matplotlib.pyplot as plt\n",
    "import numpy as np\n",
    "\n",
    "a = np.arange(-np.pi,np.pi,np.pi/100)\n",
    "plt.plot(a,np.sin(a))\n",
    "plt.show()"
   ]
  },
  {
   "cell_type": "markdown",
   "metadata": {},
   "source": [
    "실습2"
   ]
  },
  {
   "cell_type": "code",
   "execution_count": null,
   "metadata": {},
   "outputs": [],
   "source": [
    "import matplotlib.pyplot as plt\n",
    "import numpy as np\n",
    "from numpy import dot\n",
    "from numpy.linalg import norm\n",
    "\n",
    "def cos_sim(A, B):\n",
    "    return dot(A, B)/(norm(A)*norm(B))\n",
    "\n",
    "docs = np.array([[1,1,0,1,0,1],[1,1,1,0,1,0],[1,1,0,1,0,0]]) #행렬이 됨 \n",
    "\n",
    "query = np.array([1,1,0,0,1,0])\n",
    "\n",
    "q_size = np.sqrt(np.dot(query,query.transpose()))\n",
    "sim = [] # ydata\n",
    "xdata = []\n",
    "\n",
    "for i,d in enumerate(docs[:]): #enumerate 하나씩 잡아와서 넘버링 처리 \n",
    "    d_size = np.sqrt(np.dot(d,d.transpose()))\n",
    "    s = np.dot(d,query)/(d_size*q_size)\n",
    "    sim.append(s)\n",
    "    xdata.append(\"doc{0:d} = {1:2f}\".format(i+1,s))\n",
    "plt.title('Cosine similarities')\n",
    "plt.bar(xdata,sim)\n",
    "plt.show()\n"
   ]
  }
 ],
 "metadata": {
  "kernelspec": {
   "display_name": "Python 3",
   "language": "python",
   "name": "python3"
  },
  "language_info": {
   "codemirror_mode": {
    "name": "ipython",
    "version": 3
   },
   "file_extension": ".py",
   "mimetype": "text/x-python",
   "name": "python",
   "nbconvert_exporter": "python",
   "pygments_lexer": "ipython3",
   "version": "3.8.5"
  }
 },
 "nbformat": 4,
 "nbformat_minor": 4
}
